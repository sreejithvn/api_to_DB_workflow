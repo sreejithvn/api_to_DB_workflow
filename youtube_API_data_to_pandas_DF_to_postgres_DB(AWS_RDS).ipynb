{
  "cells": [
    {
      "attachments": {},
      "cell_type": "markdown",
      "metadata": {
        "id": "Hb3wDwQsSWn9"
      },
      "source": [
        "# Resources\n",
        "\n",
        "https://www.slickremix.com/docs/get-api-key-for-youtube/\n",
        "\n",
        "https://developers.google.com/youtube/v3/docs/?apix=true#Search"
      ]
    },
    {
      "attachments": {},
      "cell_type": "markdown",
      "metadata": {
        "id": "HVQdFOP7Ticc"
      },
      "source": [
        "Steps:\n",
        "- Make API calls with Python requests library\n",
        "- Collected JSON data from the response\n",
        "- Stored data in pandas DataFrame"
      ]
    },
    {
      "cell_type": "code",
      "execution_count": 3,
      "metadata": {
        "id": "5ECo8MDnxndA"
      },
      "outputs": [],
      "source": [
        "# import libraries\n",
        "import requests\n",
        "import pandas as pd\n",
        "import time"
      ]
    },
    {
      "cell_type": "code",
      "execution_count": 4,
      "metadata": {
        "id": "Vel5zzeTx8gg"
      },
      "outputs": [],
      "source": [
        "# Keys\n",
        "API_KEY = ''\n",
        "CHANNEL_ID = \"UCW8Ews7tdKKkBT6GdtQaXvQ\""
      ]
    },
    {
      "cell_type": "code",
      "execution_count": 9,
      "metadata": {
        "id": "GeO6jc0czZZI"
      },
      "outputs": [],
      "source": [
        "# make API call (Example)\n",
        "# response = requests.get('https://api.github.com').json()\n",
        "# response"
      ]
    },
    {
      "cell_type": "code",
      "execution_count": 77,
      "metadata": {
        "id": "cdjdCzY2zuY9"
      },
      "outputs": [],
      "source": [
        "# make API call\n",
        "pageToken= ''\n",
        "url = 'https://www.googleapis.com/youtube/v3/search?key='+API_KEY+'&channelId='+CHANNEL_ID+'&part=snippet,id&order=date&maxResults=10000'+pageToken\n",
        "\n",
        "response = requests.get(url).json()"
      ]
    },
    {
      "cell_type": "code",
      "execution_count": 78,
      "metadata": {
        "colab": {
          "base_uri": "https://localhost:8080/"
        },
        "id": "W9swf03mz3e-",
        "outputId": "59f8e128-3ed0-49de-e31a-cb4b0616d201"
      },
      "outputs": [
        {
          "data": {
            "text/plain": [
              "{'kind': 'youtube#searchResult',\n",
              " 'etag': 'GPD-F6lDd_CIdFDY4HJT48kk_64',\n",
              " 'id': {'kind': 'youtube#video', 'videoId': '8IIryKHheYw'},\n",
              " 'snippet': {'publishedAt': '2022-10-18T01:00:03Z',\n",
              "  'channelId': 'UCW8Ews7tdKKkBT6GdtQaXvQ',\n",
              "  'title': '(Part 3) How to Formulate the Approach for Solving SQL Interview Questions',\n",
              "  'description': 'Ready to prepare for your SQL interview? Learn about how to formulate an effective approach for solving SQL interview questions ...',\n",
              "  'thumbnails': {'default': {'url': 'https://i.ytimg.com/vi/8IIryKHheYw/default.jpg',\n",
              "    'width': 120,\n",
              "    'height': 90},\n",
              "   'medium': {'url': 'https://i.ytimg.com/vi/8IIryKHheYw/mqdefault.jpg',\n",
              "    'width': 320,\n",
              "    'height': 180},\n",
              "   'high': {'url': 'https://i.ytimg.com/vi/8IIryKHheYw/hqdefault.jpg',\n",
              "    'width': 480,\n",
              "    'height': 360}},\n",
              "  'channelTitle': 'StrataScratch',\n",
              "  'liveBroadcastContent': 'none',\n",
              "  'publishTime': '2022-10-18T01:00:03Z'}}"
            ]
          },
          "execution_count": 78,
          "metadata": {},
          "output_type": "execute_result"
        }
      ],
      "source": [
        "response['items'][0]"
      ]
    },
    {
      "cell_type": "code",
      "execution_count": 28,
      "metadata": {
        "id": "TMMFvRfQ1o-4"
      },
      "outputs": [],
      "source": [
        "for video in response['items']:\n",
        "  if video['id']['kind'] == 'youtube#video':\n",
        "    video_id = video['id']['videoId']\n",
        "    video_title = video['snippet']['title']\n",
        "    video_title = str(video_title).replace('&amp;','')\n",
        "    upload_date = video['snippet']['publishedAt'].split('T')[0]\n",
        "    # print(video_id)\n",
        "    # print(video_title)\n",
        "    # print(upload_date)"
      ]
    },
    {
      "cell_type": "code",
      "execution_count": 22,
      "metadata": {
        "id": "qrYjVyKFEGiB"
      },
      "outputs": [],
      "source": [
        "url_video_stats = 'https://www.googleapis.com/youtube/v3/videos?id='+video_id+'&part=statistics&key='+API_KEY\n",
        "\n",
        "response_video_stats = requests.get(url_video_stats).json() "
      ]
    },
    {
      "cell_type": "code",
      "execution_count": 23,
      "metadata": {
        "colab": {
          "base_uri": "https://localhost:8080/"
        },
        "id": "q8BdcIRfGgkT",
        "outputId": "65fbfb7a-6856-42e3-a775-c064b307b8f6"
      },
      "outputs": [
        {
          "data": {
            "text/plain": [
              "{'kind': 'youtube#videoListResponse',\n",
              " 'etag': 'CAddcITptfRbe2n8KgFd0YWN7Nk',\n",
              " 'items': [{'kind': 'youtube#video',\n",
              "   'etag': '6ym9O3AvaoU0CdW1yibuuzWy1aA',\n",
              "   'id': 'VYeevsVj4fU',\n",
              "   'statistics': {'viewCount': '26866',\n",
              "    'likeCount': '758',\n",
              "    'favoriteCount': '0',\n",
              "    'commentCount': '87'}}],\n",
              " 'pageInfo': {'totalResults': 1, 'resultsPerPage': 1}}"
            ]
          },
          "execution_count": 23,
          "metadata": {},
          "output_type": "execute_result"
        }
      ],
      "source": [
        "response_video_stats"
      ]
    },
    {
      "cell_type": "code",
      "execution_count": 26,
      "metadata": {
        "id": "EwfGo2_dGjbF"
      },
      "outputs": [],
      "source": [
        "view_count = response_video_stats['items'][0]['statistics']['viewCount']\n",
        "like_count = response_video_stats['items'][0]['statistics']['likeCount']\n",
        "comment_count = response_video_stats['items'][0]['statistics']['commentCount']"
      ]
    },
    {
      "cell_type": "code",
      "execution_count": 27,
      "metadata": {
        "colab": {
          "base_uri": "https://localhost:8080/",
          "height": 36
        },
        "id": "t3GNixwBHNlZ",
        "outputId": "825efd77-8b48-49f1-e96e-66c5587ae1d6"
      },
      "outputs": [
        {
          "data": {
            "application/vnd.google.colaboratory.intrinsic+json": {
              "type": "string"
            },
            "text/plain": [
              "'26866'"
            ]
          },
          "execution_count": 27,
          "metadata": {},
          "output_type": "execute_result"
        }
      ],
      "source": [
        "view_count"
      ]
    },
    {
      "cell_type": "code",
      "execution_count": 81,
      "metadata": {
        "id": "USrhM8__KZbQ"
      },
      "outputs": [],
      "source": [
        "df = pd.DataFrame(columns=['video_id', 'video_title', 'upload_date', 'view_count', 'like_count', 'comment_count'])"
      ]
    },
    {
      "cell_type": "code",
      "execution_count": 82,
      "metadata": {
        "id": "XiUQa59_Hs8w"
      },
      "outputs": [],
      "source": [
        "for video in response['items']:\n",
        "  if video['id']['kind'] == 'youtube#video':\n",
        "    video_id = video['id']['videoId']\n",
        "    video_title = video['snippet']['title']\n",
        "    video_title = str(video_title).replace('&amp;','')\n",
        "    upload_date = video['snippet']['publishedAt'].split('T')[0]\n",
        "\n",
        "    # api call to collect video stats for each video\n",
        "    url_video_stats = 'https://www.googleapis.com/youtube/v3/videos?id='+video_id+'&part=statistics&key='+API_KEY\n",
        "    response_video_stats = requests.get(url_video_stats).json() \n",
        "    view_count = response_video_stats['items'][0]['statistics']['viewCount']\n",
        "    like_count = response_video_stats['items'][0]['statistics']['likeCount']\n",
        "    comment_count = response_video_stats['items'][0]['statistics']['commentCount']\n",
        "\n",
        "    # save data in pandas df\n",
        "    df = df.append({'video_id': video_id, 'video_title': video_title, 'upload_date': upload_date,\n",
        "                    'view_count': view_count, 'like_count': like_count, 'comment_count': comment_count}, ignore_index=True)"
      ]
    },
    {
      "cell_type": "code",
      "execution_count": 83,
      "metadata": {
        "colab": {
          "base_uri": "https://localhost:8080/"
        },
        "id": "yVuZdyniI-cS",
        "outputId": "d20d3176-68fb-46ec-b9ca-8282efaa2d86"
      },
      "outputs": [
        {
          "data": {
            "text/plain": [
              "49"
            ]
          },
          "execution_count": 83,
          "metadata": {},
          "output_type": "execute_result"
        }
      ],
      "source": [
        "df.head()\n",
        "len(df)"
      ]
    },
    {
      "cell_type": "markdown",
      "metadata": {
        "id": "EZruMzIKRHKF"
      },
      "source": [
        "# Organize our Code"
      ]
    },
    {
      "cell_type": "code",
      "execution_count": 87,
      "metadata": {
        "id": "DJ8tDhJnRGnT"
      },
      "outputs": [],
      "source": [
        "# get url for the channel to make api call\n",
        "pageToken= ''\n",
        "url = 'https://www.googleapis.com/youtube/v3/search?key='+API_KEY+'&channelId='+CHANNEL_ID+'&part=snippet,id&order=date&maxResults=10000'+pageToken"
      ]
    },
    {
      "cell_type": "code",
      "execution_count": 88,
      "metadata": {
        "id": "n68n9L8CM3i_"
      },
      "outputs": [],
      "source": [
        "def get_video_stats(video_id):\n",
        "  url_video_stats = 'https://www.googleapis.com/youtube/v3/videos?id='+video_id+'&part=statistics&key='+API_KEY\n",
        "\n",
        "  # make API call\n",
        "  response_video_stats = requests.get(url_video_stats).json() \n",
        "  view_count = response_video_stats['items'][0]['statistics']['viewCount']\n",
        "  like_count = response_video_stats['items'][0]['statistics']['likeCount']\n",
        "  comment_count = response_video_stats['items'][0]['statistics']['commentCount']\n",
        "  \n",
        "  return view_count, like_count, comment_count"
      ]
    },
    {
      "cell_type": "code",
      "execution_count": 89,
      "metadata": {
        "id": "VQE5tLYFLZCn"
      },
      "outputs": [],
      "source": [
        "def get_data(url):\n",
        "\n",
        "  df = pd.DataFrame(columns=['video_id', 'video_title', 'upload_date', 'view_count', 'like_count', 'comment_count'])\n",
        "  \n",
        "  # make API call\n",
        "  response = requests.get(url).json()\n",
        "  time.sleep(1)\n",
        "\n",
        "  for video in response['items']:\n",
        "    if video['id']['kind'] == 'youtube#video':\n",
        "      video_id = video['id']['videoId']\n",
        "      video_title = video['snippet']['title']\n",
        "      video_title = str(video_title).replace('&amp;','')\n",
        "      upload_date = video['snippet']['publishedAt'].split('T')[0]\n",
        "\n",
        "      view_count, like_count, comment_count = get_video_stats(video_id)\n",
        "\n",
        "\n",
        "      df = df.append({'video_id': video_id, 'video_title': video_title, 'upload_date': upload_date,\n",
        "                     'view_count': view_count, 'like_count': like_count, 'comment_count': comment_count}, ignore_index=True)\n",
        "  return df"
      ]
    },
    {
      "cell_type": "code",
      "execution_count": 90,
      "metadata": {
        "colab": {
          "base_uri": "https://localhost:8080/",
          "height": 206
        },
        "id": "xjL8Cg6IPaWe",
        "outputId": "e3750f7b-4289-40d1-defe-c66fffe0636f"
      },
      "outputs": [
        {
          "data": {
            "text/html": [
              "\n",
              "  <div id=\"df-0f52dafc-488b-4862-8cfe-daa2e8503afb\">\n",
              "    <div class=\"colab-df-container\">\n",
              "      <div>\n",
              "<style scoped>\n",
              "    .dataframe tbody tr th:only-of-type {\n",
              "        vertical-align: middle;\n",
              "    }\n",
              "\n",
              "    .dataframe tbody tr th {\n",
              "        vertical-align: top;\n",
              "    }\n",
              "\n",
              "    .dataframe thead th {\n",
              "        text-align: right;\n",
              "    }\n",
              "</style>\n",
              "<table border=\"1\" class=\"dataframe\">\n",
              "  <thead>\n",
              "    <tr style=\"text-align: right;\">\n",
              "      <th></th>\n",
              "      <th>video_id</th>\n",
              "      <th>video_title</th>\n",
              "      <th>upload_date</th>\n",
              "      <th>view_count</th>\n",
              "      <th>like_count</th>\n",
              "      <th>comment_count</th>\n",
              "    </tr>\n",
              "  </thead>\n",
              "  <tbody>\n",
              "    <tr>\n",
              "      <th>0</th>\n",
              "      <td>8IIryKHheYw</td>\n",
              "      <td>(Part 3) How to Formulate the Approach for Sol...</td>\n",
              "      <td>2022-10-18</td>\n",
              "      <td>98</td>\n",
              "      <td>2</td>\n",
              "      <td>0</td>\n",
              "    </tr>\n",
              "    <tr>\n",
              "      <th>1</th>\n",
              "      <td>yQSZT65WET4</td>\n",
              "      <td>Superfast Python Coding Question From Amazon</td>\n",
              "      <td>2022-10-13</td>\n",
              "      <td>707</td>\n",
              "      <td>38</td>\n",
              "      <td>1</td>\n",
              "    </tr>\n",
              "    <tr>\n",
              "      <th>2</th>\n",
              "      <td>OMHbYrL09io</td>\n",
              "      <td>A/B Testing (A) Interview Questions or (B) for...</td>\n",
              "      <td>2022-10-12</td>\n",
              "      <td>429</td>\n",
              "      <td>19</td>\n",
              "      <td>0</td>\n",
              "    </tr>\n",
              "    <tr>\n",
              "      <th>3</th>\n",
              "      <td>SGDchcWjaTA</td>\n",
              "      <td>(Part 2) Deepen Your Understanding of Data wit...</td>\n",
              "      <td>2022-10-10</td>\n",
              "      <td>493</td>\n",
              "      <td>21</td>\n",
              "      <td>0</td>\n",
              "    </tr>\n",
              "    <tr>\n",
              "      <th>4</th>\n",
              "      <td>9av7jQ9MA44</td>\n",
              "      <td>A/B Testing Concepts To Know For Data Science</td>\n",
              "      <td>2022-10-06</td>\n",
              "      <td>1442</td>\n",
              "      <td>87</td>\n",
              "      <td>4</td>\n",
              "    </tr>\n",
              "  </tbody>\n",
              "</table>\n",
              "</div>\n",
              "      <button class=\"colab-df-convert\" onclick=\"convertToInteractive('df-0f52dafc-488b-4862-8cfe-daa2e8503afb')\"\n",
              "              title=\"Convert this dataframe to an interactive table.\"\n",
              "              style=\"display:none;\">\n",
              "        \n",
              "  <svg xmlns=\"http://www.w3.org/2000/svg\" height=\"24px\"viewBox=\"0 0 24 24\"\n",
              "       width=\"24px\">\n",
              "    <path d=\"M0 0h24v24H0V0z\" fill=\"none\"/>\n",
              "    <path d=\"M18.56 5.44l.94 2.06.94-2.06 2.06-.94-2.06-.94-.94-2.06-.94 2.06-2.06.94zm-11 1L8.5 8.5l.94-2.06 2.06-.94-2.06-.94L8.5 2.5l-.94 2.06-2.06.94zm10 10l.94 2.06.94-2.06 2.06-.94-2.06-.94-.94-2.06-.94 2.06-2.06.94z\"/><path d=\"M17.41 7.96l-1.37-1.37c-.4-.4-.92-.59-1.43-.59-.52 0-1.04.2-1.43.59L10.3 9.45l-7.72 7.72c-.78.78-.78 2.05 0 2.83L4 21.41c.39.39.9.59 1.41.59.51 0 1.02-.2 1.41-.59l7.78-7.78 2.81-2.81c.8-.78.8-2.07 0-2.86zM5.41 20L4 18.59l7.72-7.72 1.47 1.35L5.41 20z\"/>\n",
              "  </svg>\n",
              "      </button>\n",
              "      \n",
              "  <style>\n",
              "    .colab-df-container {\n",
              "      display:flex;\n",
              "      flex-wrap:wrap;\n",
              "      gap: 12px;\n",
              "    }\n",
              "\n",
              "    .colab-df-convert {\n",
              "      background-color: #E8F0FE;\n",
              "      border: none;\n",
              "      border-radius: 50%;\n",
              "      cursor: pointer;\n",
              "      display: none;\n",
              "      fill: #1967D2;\n",
              "      height: 32px;\n",
              "      padding: 0 0 0 0;\n",
              "      width: 32px;\n",
              "    }\n",
              "\n",
              "    .colab-df-convert:hover {\n",
              "      background-color: #E2EBFA;\n",
              "      box-shadow: 0px 1px 2px rgba(60, 64, 67, 0.3), 0px 1px 3px 1px rgba(60, 64, 67, 0.15);\n",
              "      fill: #174EA6;\n",
              "    }\n",
              "\n",
              "    [theme=dark] .colab-df-convert {\n",
              "      background-color: #3B4455;\n",
              "      fill: #D2E3FC;\n",
              "    }\n",
              "\n",
              "    [theme=dark] .colab-df-convert:hover {\n",
              "      background-color: #434B5C;\n",
              "      box-shadow: 0px 1px 3px 1px rgba(0, 0, 0, 0.15);\n",
              "      filter: drop-shadow(0px 1px 2px rgba(0, 0, 0, 0.3));\n",
              "      fill: #FFFFFF;\n",
              "    }\n",
              "  </style>\n",
              "\n",
              "      <script>\n",
              "        const buttonEl =\n",
              "          document.querySelector('#df-0f52dafc-488b-4862-8cfe-daa2e8503afb button.colab-df-convert');\n",
              "        buttonEl.style.display =\n",
              "          google.colab.kernel.accessAllowed ? 'block' : 'none';\n",
              "\n",
              "        async function convertToInteractive(key) {\n",
              "          const element = document.querySelector('#df-0f52dafc-488b-4862-8cfe-daa2e8503afb');\n",
              "          const dataTable =\n",
              "            await google.colab.kernel.invokeFunction('convertToInteractive',\n",
              "                                                     [key], {});\n",
              "          if (!dataTable) return;\n",
              "\n",
              "          const docLinkHtml = 'Like what you see? Visit the ' +\n",
              "            '<a target=\"_blank\" href=https://colab.research.google.com/notebooks/data_table.ipynb>data table notebook</a>'\n",
              "            + ' to learn more about interactive tables.';\n",
              "          element.innerHTML = '';\n",
              "          dataTable['output_type'] = 'display_data';\n",
              "          await google.colab.output.renderOutput(dataTable, element);\n",
              "          const docLink = document.createElement('div');\n",
              "          docLink.innerHTML = docLinkHtml;\n",
              "          element.appendChild(docLink);\n",
              "        }\n",
              "      </script>\n",
              "    </div>\n",
              "  </div>\n",
              "  "
            ],
            "text/plain": [
              "      video_id                                        video_title upload_date  \\\n",
              "0  8IIryKHheYw  (Part 3) How to Formulate the Approach for Sol...  2022-10-18   \n",
              "1  yQSZT65WET4       Superfast Python Coding Question From Amazon  2022-10-13   \n",
              "2  OMHbYrL09io  A/B Testing (A) Interview Questions or (B) for...  2022-10-12   \n",
              "3  SGDchcWjaTA  (Part 2) Deepen Your Understanding of Data wit...  2022-10-10   \n",
              "4  9av7jQ9MA44      A/B Testing Concepts To Know For Data Science  2022-10-06   \n",
              "\n",
              "  view_count like_count comment_count  \n",
              "0         98          2             0  \n",
              "1        707         38             1  \n",
              "2        429         19             0  \n",
              "3        493         21             0  \n",
              "4       1442         87             4  "
            ]
          },
          "execution_count": 90,
          "metadata": {},
          "output_type": "execute_result"
        }
      ],
      "source": [
        "df = get_data(url)\n",
        "df.head()"
      ]
    },
    {
      "cell_type": "code",
      "execution_count": 91,
      "metadata": {
        "colab": {
          "base_uri": "https://localhost:8080/"
        },
        "id": "GzewCYNuPkOM",
        "outputId": "8f93aedf-a04b-449d-f99a-909445a95358"
      },
      "outputs": [
        {
          "data": {
            "text/plain": [
              "49"
            ]
          },
          "execution_count": 91,
          "metadata": {},
          "output_type": "execute_result"
        }
      ],
      "source": [
        "len(df)"
      ]
    },
    {
      "cell_type": "markdown",
      "metadata": {
        "id": "MV_MvZq-zN60"
      },
      "source": [
        "# Dataframe to AWS RDS Database"
      ]
    },
    {
      "cell_type": "markdown",
      "metadata": {
        "id": "PZMu6Y7cJ7Oc"
      },
      "source": [
        "Steps:\n",
        "1. Create a AWS RDS postgres database - publically accessible\n",
        "2. Add a security group with an **`inbound rule`** to to Allow access from All IPv4 (or just `Google Colab` IP -> find colab's instance ip address with `!curl ipecho.net/plain` command), to connect from our PC(Colab instance) to RDS.\n",
        "3. Connect to the database\n",
        "4. Use cursor to use python code to execute SQL commands in the DB session\n",
        "5. Here our data (rows) for existing videos, will change (some entries like view_count etc), so we have to update them as well as add new rows for new videos uploaded.\n",
        "\n",
        "**COLAB IP WILL CHANGE, so if used in INBOUND rule needs to be updated**"
      ]
    },
    {
      "cell_type": "code",
      "execution_count": 9,
      "metadata": {
        "colab": {
          "base_uri": "https://localhost:8080/"
        },
        "id": "taRe8wROLGti",
        "outputId": "a6bd83b7-a35d-4419-f1b9-ddd0e804bbd1"
      },
      "outputs": [
        {
          "name": "stdout",
          "output_type": "stream",
          "text": [
            "34.121.162.191"
          ]
        }
      ],
      "source": [
        "# THIS IP WILL CHANGE\n",
        "!curl ipecho.net/plain"
      ]
    },
    {
      "cell_type": "code",
      "execution_count": 10,
      "metadata": {
        "colab": {
          "base_uri": "https://localhost:8080/"
        },
        "id": "1iOjCE3ZzX92",
        "outputId": "60581159-deb7-4711-b0dc-84293095cabb"
      },
      "outputs": [
        {
          "name": "stdout",
          "output_type": "stream",
          "text": [
            "Looking in indexes: https://pypi.org/simple, https://us-python.pkg.dev/colab-wheels/public/simple/\n",
            "Requirement already satisfied: psycopg2 in /usr/local/lib/python3.7/dist-packages (2.9.4)\n"
          ]
        }
      ],
      "source": [
        "!pip install psycopg2\n",
        "import psycopg2 as ps\n",
        "import pandas as pd"
      ]
    },
    {
      "cell_type": "code",
      "execution_count": 11,
      "metadata": {
        "id": "WgcGYdzU68LX"
      },
      "outputs": [],
      "source": [
        "def connect_to_db(hostname, dbname, username, password, port):\n",
        "\n",
        "  try:\n",
        "    conn = ps.connect(host=hostname, \n",
        "                      database=dbname, \n",
        "                      user=username, \n",
        "                      password=password, \n",
        "                      port=port)\n",
        "  except ps.OperationalError as e:\n",
        "    raise e\n",
        "  else:\n",
        "    print('Connected to Database')\n",
        "  return conn"
      ]
    },
    {
      "cell_type": "code",
      "execution_count": null,
      "metadata": {
        "colab": {
          "base_uri": "https://localhost:8080/"
        },
        "id": "YYXJn_3-ztZR",
        "outputId": "5b448186-e705-4d7a-f19d-7ea6210bec2c"
      },
      "outputs": [
        {
          "name": "stdout",
          "output_type": "stream",
          "text": [
            "Connected to Database\n"
          ]
        }
      ],
      "source": [
        "hostname = 'database-1.XXXXXXXX.us-east-1.rds.amazonaws.com'\n",
        "dbname = ''\n",
        "port = '5432'\n",
        "username = 'postgres'\n",
        "password = 'password'\n",
        "conn = None\n",
        "\n",
        "conn = connect_to_db(hostname, dbname, username, password, port)"
      ]
    },
    {
      "cell_type": "code",
      "execution_count": 37,
      "metadata": {
        "id": "-pyxHzhK7tre"
      },
      "outputs": [],
      "source": [
        "# Create Table\n",
        "\n",
        "def create_table(curr):\n",
        "  create_table_command = (\"\"\"CREATE TABLE IF NOT EXISTS videos (\n",
        "    video_id VARCHAR(255) PRIMARY KEY,\n",
        "    video_title TEXT NOT NULL,\n",
        "    upload_date DATE NOT NULL DEFAULT CURRENT_DATE,\n",
        "    view_count INTEGER NOT NULL,\n",
        "    like_count INTEGER NOT NULL,\n",
        "    comment_count INTEGER NOT NULL\n",
        "  )\"\"\")\n",
        "\n",
        "  curr.execute(create_table_command)"
      ]
    },
    {
      "cell_type": "markdown",
      "metadata": {
        "id": "cOprosZFjUIE"
      },
      "source": [
        "- updating the database\n",
        "- handling data for scalability\n",
        "- check to see if video exists\n",
        " - if video exists perform an update\n",
        " - for new videos append entry to DB Table"
      ]
    },
    {
      "cell_type": "code",
      "execution_count": 26,
      "metadata": {
        "id": "haTUmejGkYJs"
      },
      "outputs": [],
      "source": [
        "# check if video exists\n",
        "\n",
        "def check_if_video_exists(curr, video_id):\n",
        "  query = (\"\"\"SELECT video_id FROM videos WHERE video_id = %s\"\"\")\n",
        "  curr.execute(query, (video_id,))\n",
        "\n",
        "  return curr.fetchone() is not None"
      ]
    },
    {
      "cell_type": "code",
      "execution_count": 27,
      "metadata": {
        "id": "xROtSMgpxgep"
      },
      "outputs": [],
      "source": [
        "# update row if video exists\n",
        "\n",
        "def update_row(curr, video_id, video_title, view_count, like_count, comment_count):\n",
        "  query = (\"\"\"UPDATE videos\n",
        "              SET video_title = %s,\n",
        "                  view_count = %s,\n",
        "                  like_count = %s,\n",
        "                  comment_count = %s\n",
        "              WHERE video_id = %s;\"\"\")\n",
        "  vars_to_update = (video_title, view_count, like_count, comment_count, video_id)\n",
        "  curr.execute(query, vars_to_update)"
      ]
    },
    {
      "cell_type": "code",
      "execution_count": 33,
      "metadata": {
        "id": "WhzbVY7rXCNF"
      },
      "outputs": [],
      "source": [
        "# move data from df to DB\n",
        "\n",
        "def update_db(curr, df):\n",
        "  tmp_df = pd.DataFrame(columns=['video_id', 'video_title', 'upload_date', 'view_count', 'like_count', 'comment_count'])\n",
        "\n",
        "  for index, row in df.iterrows():\n",
        "    if check_if_video_exists(curr, row['video_id']):\n",
        "      update_row(curr, row['video_id'], row['video_title'], row['view_count'], row['like_count'], row['comment_count'])  # if video already exists we will perform an update\n",
        "    else: # We will append this new video to the Table\n",
        "      tmp_df = tmp_df.append(row)\n",
        "\n",
        "  return tmp_df"
      ]
    },
    {
      "cell_type": "code",
      "execution_count": 29,
      "metadata": {
        "id": "AR2UEKeAsGo8"
      },
      "outputs": [],
      "source": [
        "# insert row into Table for new videos\n",
        "\n",
        "def insert_into_table(curr, video_id, video_title, upload_date, view_count, like_count, comment_count):\n",
        "  insert_command = (\"\"\"INSERT INTO videos (video_id, video_title, upload_date, view_count, like_count, comment_count) \n",
        "                                    VALUES (%s,%s,%s,%s,%s,%s);\"\"\")\n",
        "  \n",
        "  row_to_insert = (video_id, video_title, upload_date, view_count, like_count, comment_count)\n",
        "  curr.execute(insert_command, row_to_insert)"
      ]
    },
    {
      "cell_type": "code",
      "execution_count": 55,
      "metadata": {
        "id": "R5UBsZNBrA85"
      },
      "outputs": [],
      "source": [
        "# append rows from df(new videos) to DB\n",
        "\n",
        "def append_from_df_to_db(curr, df):\n",
        "  for index, row in new_video_df.iterrows():\n",
        "    insert_into_table(curr, row['video_id'], row['video_title'], row['upload_date'], row['view_count'], row['like_count'], row['comment_count'])"
      ]
    },
    {
      "cell_type": "code",
      "execution_count": 62,
      "metadata": {
        "id": "wEVsNMYZWOA_"
      },
      "outputs": [],
      "source": [
        "# cursor commands allows to run SQL commnds on the database\n",
        "# Allows python code to execute SQL commands in your DB session\n",
        "curr = conn.cursor()"
      ]
    },
    {
      "cell_type": "code",
      "execution_count": 63,
      "metadata": {
        "id": "UCuhEH8PWp-W"
      },
      "outputs": [],
      "source": [
        "create_table(curr)"
      ]
    },
    {
      "cell_type": "code",
      "execution_count": 64,
      "metadata": {
        "id": "xrI7JdRTwncm"
      },
      "outputs": [],
      "source": [
        "new_video_df = update_db(curr, df)"
      ]
    },
    {
      "cell_type": "code",
      "execution_count": 65,
      "metadata": {
        "id": "7iA-uug3yXks"
      },
      "outputs": [],
      "source": [
        "append_from_df_to_db(curr, new_video_df)"
      ]
    },
    {
      "cell_type": "code",
      "execution_count": 66,
      "metadata": {
        "id": "pa52_1txW2l_"
      },
      "outputs": [],
      "source": [
        "conn.commit()"
      ]
    },
    {
      "cell_type": "code",
      "execution_count": null,
      "metadata": {
        "id": "QkiZIRMtlRm3"
      },
      "outputs": [],
      "source": []
    }
  ],
  "metadata": {
    "colab": {
      "collapsed_sections": [],
      "provenance": []
    },
    "kernelspec": {
      "display_name": "Python 3",
      "name": "python3"
    },
    "language_info": {
      "name": "python"
    }
  },
  "nbformat": 4,
  "nbformat_minor": 0
}
